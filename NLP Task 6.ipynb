{
 "cells": [
  {
   "cell_type": "code",
   "execution_count": 1,
   "metadata": {},
   "outputs": [],
   "source": [
    "import nltk"
   ]
  },
  {
   "cell_type": "code",
   "execution_count": 2,
   "metadata": {},
   "outputs": [
    {
     "name": "stdout",
     "output_type": "stream",
     "text": [
      "(S\n",
      "  (NP the/DT little/JJ yellow/JJ dog/NN)\n",
      "  barked/VBD\n",
      "  at/IN\n",
      "  (NP the/DT cat/NN))\n"
     ]
    }
   ],
   "source": [
    "sentence = [(\"the\", \"DT\"), (\"little\", \"JJ\"), (\"yellow\", \"JJ\"),(\"dog\", \"NN\"), (\"barked\", \"VBD\"), (\"at\", \"IN\"),  (\"the\", \"DT\"), (\"cat\", \"NN\")]\n",
    "grammar=\"NP: {<DT>?<JJ>*<NN>}\"\n",
    "c=nltk.RegexpParser(grammar)\n",
    "result=c.parse(sentence)\n",
    "print(result)"
   ]
  },
  {
   "cell_type": "code",
   "execution_count": 3,
   "metadata": {},
   "outputs": [],
   "source": [
    "result.draw()"
   ]
  },
  {
   "cell_type": "code",
   "execution_count": 15,
   "metadata": {},
   "outputs": [
    {
     "name": "stdout",
     "output_type": "stream",
     "text": [
      "(S\n",
      "  Four/CD\n",
      "  (NP score/NN)\n",
      "  and/CC\n",
      "  seven/CD\n",
      "  years/NNS\n",
      "  ago/RB\n",
      "  our/PRP$\n",
      "  fathers/NNS\n",
      "  brought/VBN\n",
      "  forth/RB\n",
      "  on/IN\n",
      "  (NP this/DT continent/NN)\n",
      "  ,/,\n",
      "  (NP a/DT new/JJ nation/NN)\n",
      "  ,/,\n",
      "  conceived/VBN\n",
      "  in/IN\n",
      "  Liberty/NNP\n",
      "  ,/,\n",
      "  and/CC\n",
      "  dedicated/VBD\n",
      "  to/TO\n",
      "  (NP the/DT proposition/NN)\n",
      "  that/IN\n",
      "  all/DT\n",
      "  men/NNS\n",
      "  are/VBP\n",
      "  created/VBN\n",
      "  equal/JJ\n",
      "  ./.)\n"
     ]
    }
   ],
   "source": [
    "#Sentence 1\n",
    "\n",
    "import nltk\n",
    "sentence=\"Four score and seven years ago our fathers brought forth on this continent, a new nation, conceived in Liberty, and dedicated to the proposition that all men are created equal.\"\n",
    "nltk_tokens=nltk.word_tokenize(sentence)\n",
    "sentence_token=nltk.pos_tag(nltk_tokens)\n",
    "grammar=\"NP:{<DT>?<JJ>*<NN>}\"\n",
    "c=nltk.RegexpParser(grammar)\n",
    "result=c.parse(sentence_token)\n",
    "print(result)"
   ]
  },
  {
   "cell_type": "code",
   "execution_count": null,
   "metadata": {},
   "outputs": [],
   "source": [
    "result.draw()"
   ]
  },
  {
   "cell_type": "code",
   "execution_count": null,
   "metadata": {},
   "outputs": [],
   "source": []
  }
 ],
 "metadata": {
  "kernelspec": {
   "display_name": "Python 3",
   "language": "python",
   "name": "python3"
  },
  "language_info": {
   "codemirror_mode": {
    "name": "ipython",
    "version": 3
   },
   "file_extension": ".py",
   "mimetype": "text/x-python",
   "name": "python",
   "nbconvert_exporter": "python",
   "pygments_lexer": "ipython3",
   "version": "3.7.6"
  }
 },
 "nbformat": 4,
 "nbformat_minor": 4
}
