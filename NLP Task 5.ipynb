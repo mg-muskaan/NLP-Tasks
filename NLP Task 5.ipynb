{
 "cells": [
  {
   "cell_type": "code",
   "execution_count": 1,
   "metadata": {},
   "outputs": [],
   "source": [
    "import spacy"
   ]
  },
  {
   "cell_type": "code",
   "execution_count": 2,
   "metadata": {},
   "outputs": [],
   "source": [
    "m=spacy.load('en_core_web_sm')"
   ]
  },
  {
   "cell_type": "code",
   "execution_count": 3,
   "metadata": {},
   "outputs": [],
   "source": [
    "eg1=\"Java was originally developed by James Gosling at Sun Microsystems\" + \" which has since been acquired by Oracle and released in 1995 as a core component of Sun Microsystems' Java platform\""
   ]
  },
  {
   "cell_type": "code",
   "execution_count": 4,
   "metadata": {},
   "outputs": [],
   "source": [
    "doc = m(eg1)"
   ]
  },
  {
   "cell_type": "code",
   "execution_count": 5,
   "metadata": {},
   "outputs": [
    {
     "name": "stdout",
     "output_type": "stream",
     "text": [
      "Java ORG\n",
      "James Gosling PERSON\n",
      "Sun Microsystems ORG\n",
      "Oracle PERSON\n",
      "1995 DATE\n",
      "Sun Microsystems' ORG\n"
     ]
    }
   ],
   "source": [
    "for ent in doc.ents:\n",
    "  print(ent.text, ent.label_)"
   ]
  },
  {
   "cell_type": "code",
   "execution_count": 6,
   "metadata": {},
   "outputs": [],
   "source": [
    "eg2 = \"U.S. oficials are meeting with former UN members\"+ \" amid intensifying eforts to wind down America's effort longest war of three\"+\" groups' commanders told NBC news\""
   ]
  },
  {
   "cell_type": "code",
   "execution_count": 7,
   "metadata": {},
   "outputs": [
    {
     "name": "stdout",
     "output_type": "stream",
     "text": [
      "U.S. GPE\n",
      "UN ORG\n",
      "America GPE\n",
      "three CARDINAL\n",
      "NBC news ORG\n"
     ]
    }
   ],
   "source": [
    "doc2 = m(eg2)\n",
    "for ent in doc2.ents:\n",
    "  print(ent.text, ent.label_)"
   ]
  },
  {
   "cell_type": "code",
   "execution_count": 8,
   "metadata": {},
   "outputs": [],
   "source": [
    "#WORK_OF_ART(degree abum name)\n",
    "#FAC(man made structures)\n",
    "#Any other NER\n",
    "#try some domain specific jargon and see if model handles well"
   ]
  },
  {
   "cell_type": "code",
   "execution_count": 9,
   "metadata": {},
   "outputs": [
    {
     "name": "stdout",
     "output_type": "stream",
     "text": [
      "Selena Gomez PERSON\n",
      "'The Autobiography of Singers' WORK_OF_ART\n",
      "Statue of Liberty TIME\n",
      "Cornell UniversityShe ORG\n",
      "Maruti GPE\n",
      "Mount Everest LOC\n"
     ]
    }
   ],
   "source": [
    "eg3 = \"Selena Gomez was working on her book 'The Autobiography of Singers' while sitting on Statue of Liberty after completing her MBA from Cornell University\"+\"She has a blue car of Maruti and lives in Mount Everest\"\n",
    "doc3 = m(eg3)\n",
    "for ent in doc3.ents:\n",
    "  print(ent.text, ent.label_)"
   ]
  },
  {
   "cell_type": "code",
   "execution_count": 10,
   "metadata": {},
   "outputs": [
    {
     "name": "stdout",
     "output_type": "stream",
     "text": [
      "Ian Goodfellow PERSON\n",
      "2014 DATE\n",
      "Verge ORG\n",
      "March 2019 DATE\n",
      "AI GPE\n",
      "2018 DATE\n",
      "Edmond de Belamy PERSON\n",
      "432,500 MONEY\n",
      "2D CARDINAL\n",
      "Facebook ORG\n",
      "Goodfellow ORG\n",
      "PhD WORK_OF_ART\n"
     ]
    }
   ],
   "source": [
    "eg4 = \"A generative adversarial network (GAN) is a class of machine learning frameworks designed by Ian Goodfellow and his colleagues in 2014\"+\" GANs can be used to generate art; The Verge wrote in March 2019 that 'The images created by GANs have become the defining look of contemporary AI art.'\"+\"A GAN system was used to create the 2018 painting Edmond de Belamy, which sold for US$432,500. GANs provide a clearer and sharper 2D texture image magnitudes higher in quality than the original, while fully retaining the original's level of details, colors, etc. Such networks were reported to be used by Facebook. The most direct inspiration for GANs was noise-contrastive estimation,[46] which uses the same loss function as GANs and which Goodfellow studied during his PhD in 2010–2014\"\n",
    "doc4 = m(eg4)\n",
    "for ent in doc4.ents:\n",
    "  print(ent.text, ent.label_)"
   ]
  },
  {
   "cell_type": "code",
   "execution_count": 11,
   "metadata": {},
   "outputs": [],
   "source": [
    "#Querying"
   ]
  },
  {
   "cell_type": "code",
   "execution_count": 12,
   "metadata": {},
   "outputs": [],
   "source": [
    "locs = [('Omnicom', 'IN', 'New York'),('DDB Needham', 'IN', 'New York'),('Kaplan Thaler Group', 'IN', 'New York'),('BBDO South', 'IN', 'Atlanta'), ('Georgia-Pacific', 'IN', 'Atlanta')]\n",
    "query = [e1 for (e1, rel, e2) in locs if e2=='Atlanta']"
   ]
  },
  {
   "cell_type": "code",
   "execution_count": 13,
   "metadata": {},
   "outputs": [
    {
     "data": {
      "text/plain": [
       "['BBDO South', 'Georgia-Pacific']"
      ]
     },
     "execution_count": 13,
     "metadata": {},
     "output_type": "execute_result"
    }
   ],
   "source": [
    "query"
   ]
  },
  {
   "cell_type": "code",
   "execution_count": null,
   "metadata": {},
   "outputs": [],
   "source": []
  },
  {
   "cell_type": "code",
   "execution_count": null,
   "metadata": {},
   "outputs": [],
   "source": []
  }
 ],
 "metadata": {
  "kernelspec": {
   "display_name": "Python 3",
   "language": "python",
   "name": "python3"
  },
  "language_info": {
   "codemirror_mode": {
    "name": "ipython",
    "version": 3
   },
   "file_extension": ".py",
   "mimetype": "text/x-python",
   "name": "python",
   "nbconvert_exporter": "python",
   "pygments_lexer": "ipython3",
   "version": "3.7.6"
  }
 },
 "nbformat": 4,
 "nbformat_minor": 4
}
